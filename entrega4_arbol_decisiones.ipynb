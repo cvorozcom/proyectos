{
 "cells": [
  {
   "cell_type": "code",
   "execution_count": 16,
   "id": "8752ad3b",
   "metadata": {},
   "outputs": [],
   "source": [
    "#Importar librerías y módulos\n",
    "import numpy as np\n",
    "import pandas as pd\n",
    "import statsmodels.api as sm\n",
    "\n",
    "#Preprocesado y modelado\n",
    "from sklearn.model_selection import train_test_split\n",
    "from sklearn.tree import DecisionTreeClassifier\n",
    "from sklearn.tree import plot_tree\n",
    "from sklearn.tree import export_graphviz\n",
    "from sklearn.tree import export_text\n",
    "from sklearn.model_selection import GridSearchCV\n",
    "from sklearn.compose import ColumnTransformer\n",
    "from sklearn.preprocessing import OneHotEncoder\n",
    "from sklearn.metrics import accuracy_score\n",
    "from sklearn.metrics import confusion_matrix\n",
    "from sklearn.preprocessing import StandardScaler\n",
    "from sklearn.metrics import accuracy_score\n",
    "\n",
    "#Warnings\n",
    "import warnings\n",
    "warnings.filterwarnings('once')"
   ]
  },
  {
   "cell_type": "code",
   "execution_count": 46,
   "id": "703b9367",
   "metadata": {},
   "outputs": [],
   "source": [
    "#Cargar datos\n",
    "df = pd.read_csv(\"Cleaned-Data.csv\")"
   ]
  },
  {
   "cell_type": "code",
   "execution_count": 47,
   "id": "a32cb99e",
   "metadata": {},
   "outputs": [
    {
     "data": {
      "text/plain": [
       "(316800, 27)"
      ]
     },
     "execution_count": 47,
     "metadata": {},
     "output_type": "execute_result"
    }
   ],
   "source": [
    "#Filas y columnas\n",
    "df.shape"
   ]
  },
  {
   "cell_type": "code",
   "execution_count": 48,
   "id": "481d8853",
   "metadata": {},
   "outputs": [
    {
     "name": "stdout",
     "output_type": "stream",
     "text": [
      "<class 'pandas.core.frame.DataFrame'>\n",
      "RangeIndex: 316800 entries, 0 to 316799\n",
      "Data columns (total 27 columns):\n",
      " #   Column                   Non-Null Count   Dtype \n",
      "---  ------                   --------------   ----- \n",
      " 0   Fever                    316800 non-null  int64 \n",
      " 1   Tiredness                316800 non-null  int64 \n",
      " 2   Dry-Cough                316800 non-null  int64 \n",
      " 3   Difficulty-in-Breathing  316800 non-null  int64 \n",
      " 4   Sore-Throat              316800 non-null  int64 \n",
      " 5   None_Sympton             316800 non-null  int64 \n",
      " 6   Pains                    316800 non-null  int64 \n",
      " 7   Nasal-Congestion         316800 non-null  int64 \n",
      " 8   Runny-Nose               316800 non-null  int64 \n",
      " 9   Diarrhea                 316800 non-null  int64 \n",
      " 10  None_Experiencing        316800 non-null  int64 \n",
      " 11  Age_0-9                  316800 non-null  int64 \n",
      " 12  Age_10-19                316800 non-null  int64 \n",
      " 13  Age_20-24                316800 non-null  int64 \n",
      " 14  Age_25-59                316800 non-null  int64 \n",
      " 15  Age_60+                  316800 non-null  int64 \n",
      " 16  Gender_Female            316800 non-null  int64 \n",
      " 17  Gender_Male              316800 non-null  int64 \n",
      " 18  Gender_Transgender       316800 non-null  int64 \n",
      " 19  Severity_Mild            316800 non-null  int64 \n",
      " 20  Severity_Moderate        316800 non-null  int64 \n",
      " 21  Severity_None            316800 non-null  int64 \n",
      " 22  Severity_Severe          316800 non-null  int64 \n",
      " 23  Contact_Dont-Know        316800 non-null  int64 \n",
      " 24  Contact_No               316800 non-null  int64 \n",
      " 25  Contact_Yes              316800 non-null  int64 \n",
      " 26  Country                  316800 non-null  object\n",
      "dtypes: int64(26), object(1)\n",
      "memory usage: 65.3+ MB\n"
     ]
    }
   ],
   "source": [
    "#Información del dataframe\n",
    "df.info()"
   ]
  },
  {
   "cell_type": "code",
   "execution_count": 49,
   "id": "a902aa5e",
   "metadata": {},
   "outputs": [
    {
     "data": {
      "text/html": [
       "<div>\n",
       "<style scoped>\n",
       "    .dataframe tbody tr th:only-of-type {\n",
       "        vertical-align: middle;\n",
       "    }\n",
       "\n",
       "    .dataframe tbody tr th {\n",
       "        vertical-align: top;\n",
       "    }\n",
       "\n",
       "    .dataframe thead th {\n",
       "        text-align: right;\n",
       "    }\n",
       "</style>\n",
       "<table border=\"1\" class=\"dataframe\">\n",
       "  <thead>\n",
       "    <tr style=\"text-align: right;\">\n",
       "      <th></th>\n",
       "      <th>Fever</th>\n",
       "      <th>Tiredness</th>\n",
       "      <th>Dry-Cough</th>\n",
       "      <th>Difficulty-in-Breathing</th>\n",
       "      <th>Sore-Throat</th>\n",
       "      <th>None_Sympton</th>\n",
       "      <th>Pains</th>\n",
       "      <th>Nasal-Congestion</th>\n",
       "      <th>Runny-Nose</th>\n",
       "      <th>Diarrhea</th>\n",
       "      <th>...</th>\n",
       "      <th>Gender_Female</th>\n",
       "      <th>Gender_Male</th>\n",
       "      <th>Gender_Transgender</th>\n",
       "      <th>Severity_Mild</th>\n",
       "      <th>Severity_Moderate</th>\n",
       "      <th>Severity_None</th>\n",
       "      <th>Severity_Severe</th>\n",
       "      <th>Contact_Dont-Know</th>\n",
       "      <th>Contact_No</th>\n",
       "      <th>Contact_Yes</th>\n",
       "    </tr>\n",
       "  </thead>\n",
       "  <tbody>\n",
       "    <tr>\n",
       "      <th>count</th>\n",
       "      <td>316800.000000</td>\n",
       "      <td>316800.000000</td>\n",
       "      <td>316800.000000</td>\n",
       "      <td>316800.000000</td>\n",
       "      <td>316800.000000</td>\n",
       "      <td>316800.000000</td>\n",
       "      <td>316800.000000</td>\n",
       "      <td>316800.000000</td>\n",
       "      <td>316800.000000</td>\n",
       "      <td>316800.000000</td>\n",
       "      <td>...</td>\n",
       "      <td>316800.000000</td>\n",
       "      <td>316800.000000</td>\n",
       "      <td>316800.000000</td>\n",
       "      <td>316800.000000</td>\n",
       "      <td>316800.000000</td>\n",
       "      <td>316800.000000</td>\n",
       "      <td>316800.000000</td>\n",
       "      <td>316800.000000</td>\n",
       "      <td>316800.000000</td>\n",
       "      <td>316800.000000</td>\n",
       "    </tr>\n",
       "    <tr>\n",
       "      <th>mean</th>\n",
       "      <td>0.312500</td>\n",
       "      <td>0.500000</td>\n",
       "      <td>0.562500</td>\n",
       "      <td>0.500000</td>\n",
       "      <td>0.312500</td>\n",
       "      <td>0.062500</td>\n",
       "      <td>0.363636</td>\n",
       "      <td>0.545455</td>\n",
       "      <td>0.545455</td>\n",
       "      <td>0.363636</td>\n",
       "      <td>...</td>\n",
       "      <td>0.333333</td>\n",
       "      <td>0.333333</td>\n",
       "      <td>0.333333</td>\n",
       "      <td>0.250000</td>\n",
       "      <td>0.250000</td>\n",
       "      <td>0.250000</td>\n",
       "      <td>0.250000</td>\n",
       "      <td>0.333333</td>\n",
       "      <td>0.333333</td>\n",
       "      <td>0.333333</td>\n",
       "    </tr>\n",
       "    <tr>\n",
       "      <th>std</th>\n",
       "      <td>0.463513</td>\n",
       "      <td>0.500001</td>\n",
       "      <td>0.496079</td>\n",
       "      <td>0.500001</td>\n",
       "      <td>0.463513</td>\n",
       "      <td>0.242062</td>\n",
       "      <td>0.481046</td>\n",
       "      <td>0.497930</td>\n",
       "      <td>0.497930</td>\n",
       "      <td>0.481046</td>\n",
       "      <td>...</td>\n",
       "      <td>0.471405</td>\n",
       "      <td>0.471405</td>\n",
       "      <td>0.471405</td>\n",
       "      <td>0.433013</td>\n",
       "      <td>0.433013</td>\n",
       "      <td>0.433013</td>\n",
       "      <td>0.433013</td>\n",
       "      <td>0.471405</td>\n",
       "      <td>0.471405</td>\n",
       "      <td>0.471405</td>\n",
       "    </tr>\n",
       "    <tr>\n",
       "      <th>min</th>\n",
       "      <td>0.000000</td>\n",
       "      <td>0.000000</td>\n",
       "      <td>0.000000</td>\n",
       "      <td>0.000000</td>\n",
       "      <td>0.000000</td>\n",
       "      <td>0.000000</td>\n",
       "      <td>0.000000</td>\n",
       "      <td>0.000000</td>\n",
       "      <td>0.000000</td>\n",
       "      <td>0.000000</td>\n",
       "      <td>...</td>\n",
       "      <td>0.000000</td>\n",
       "      <td>0.000000</td>\n",
       "      <td>0.000000</td>\n",
       "      <td>0.000000</td>\n",
       "      <td>0.000000</td>\n",
       "      <td>0.000000</td>\n",
       "      <td>0.000000</td>\n",
       "      <td>0.000000</td>\n",
       "      <td>0.000000</td>\n",
       "      <td>0.000000</td>\n",
       "    </tr>\n",
       "    <tr>\n",
       "      <th>25%</th>\n",
       "      <td>0.000000</td>\n",
       "      <td>0.000000</td>\n",
       "      <td>0.000000</td>\n",
       "      <td>0.000000</td>\n",
       "      <td>0.000000</td>\n",
       "      <td>0.000000</td>\n",
       "      <td>0.000000</td>\n",
       "      <td>0.000000</td>\n",
       "      <td>0.000000</td>\n",
       "      <td>0.000000</td>\n",
       "      <td>...</td>\n",
       "      <td>0.000000</td>\n",
       "      <td>0.000000</td>\n",
       "      <td>0.000000</td>\n",
       "      <td>0.000000</td>\n",
       "      <td>0.000000</td>\n",
       "      <td>0.000000</td>\n",
       "      <td>0.000000</td>\n",
       "      <td>0.000000</td>\n",
       "      <td>0.000000</td>\n",
       "      <td>0.000000</td>\n",
       "    </tr>\n",
       "    <tr>\n",
       "      <th>50%</th>\n",
       "      <td>0.000000</td>\n",
       "      <td>0.500000</td>\n",
       "      <td>1.000000</td>\n",
       "      <td>0.500000</td>\n",
       "      <td>0.000000</td>\n",
       "      <td>0.000000</td>\n",
       "      <td>0.000000</td>\n",
       "      <td>1.000000</td>\n",
       "      <td>1.000000</td>\n",
       "      <td>0.000000</td>\n",
       "      <td>...</td>\n",
       "      <td>0.000000</td>\n",
       "      <td>0.000000</td>\n",
       "      <td>0.000000</td>\n",
       "      <td>0.000000</td>\n",
       "      <td>0.000000</td>\n",
       "      <td>0.000000</td>\n",
       "      <td>0.000000</td>\n",
       "      <td>0.000000</td>\n",
       "      <td>0.000000</td>\n",
       "      <td>0.000000</td>\n",
       "    </tr>\n",
       "    <tr>\n",
       "      <th>75%</th>\n",
       "      <td>1.000000</td>\n",
       "      <td>1.000000</td>\n",
       "      <td>1.000000</td>\n",
       "      <td>1.000000</td>\n",
       "      <td>1.000000</td>\n",
       "      <td>0.000000</td>\n",
       "      <td>1.000000</td>\n",
       "      <td>1.000000</td>\n",
       "      <td>1.000000</td>\n",
       "      <td>1.000000</td>\n",
       "      <td>...</td>\n",
       "      <td>1.000000</td>\n",
       "      <td>1.000000</td>\n",
       "      <td>1.000000</td>\n",
       "      <td>0.250000</td>\n",
       "      <td>0.250000</td>\n",
       "      <td>0.250000</td>\n",
       "      <td>0.250000</td>\n",
       "      <td>1.000000</td>\n",
       "      <td>1.000000</td>\n",
       "      <td>1.000000</td>\n",
       "    </tr>\n",
       "    <tr>\n",
       "      <th>max</th>\n",
       "      <td>1.000000</td>\n",
       "      <td>1.000000</td>\n",
       "      <td>1.000000</td>\n",
       "      <td>1.000000</td>\n",
       "      <td>1.000000</td>\n",
       "      <td>1.000000</td>\n",
       "      <td>1.000000</td>\n",
       "      <td>1.000000</td>\n",
       "      <td>1.000000</td>\n",
       "      <td>1.000000</td>\n",
       "      <td>...</td>\n",
       "      <td>1.000000</td>\n",
       "      <td>1.000000</td>\n",
       "      <td>1.000000</td>\n",
       "      <td>1.000000</td>\n",
       "      <td>1.000000</td>\n",
       "      <td>1.000000</td>\n",
       "      <td>1.000000</td>\n",
       "      <td>1.000000</td>\n",
       "      <td>1.000000</td>\n",
       "      <td>1.000000</td>\n",
       "    </tr>\n",
       "  </tbody>\n",
       "</table>\n",
       "<p>8 rows × 26 columns</p>\n",
       "</div>"
      ],
      "text/plain": [
       "               Fever      Tiredness      Dry-Cough  Difficulty-in-Breathing  \\\n",
       "count  316800.000000  316800.000000  316800.000000            316800.000000   \n",
       "mean        0.312500       0.500000       0.562500                 0.500000   \n",
       "std         0.463513       0.500001       0.496079                 0.500001   \n",
       "min         0.000000       0.000000       0.000000                 0.000000   \n",
       "25%         0.000000       0.000000       0.000000                 0.000000   \n",
       "50%         0.000000       0.500000       1.000000                 0.500000   \n",
       "75%         1.000000       1.000000       1.000000                 1.000000   \n",
       "max         1.000000       1.000000       1.000000                 1.000000   \n",
       "\n",
       "         Sore-Throat   None_Sympton          Pains  Nasal-Congestion  \\\n",
       "count  316800.000000  316800.000000  316800.000000     316800.000000   \n",
       "mean        0.312500       0.062500       0.363636          0.545455   \n",
       "std         0.463513       0.242062       0.481046          0.497930   \n",
       "min         0.000000       0.000000       0.000000          0.000000   \n",
       "25%         0.000000       0.000000       0.000000          0.000000   \n",
       "50%         0.000000       0.000000       0.000000          1.000000   \n",
       "75%         1.000000       0.000000       1.000000          1.000000   \n",
       "max         1.000000       1.000000       1.000000          1.000000   \n",
       "\n",
       "          Runny-Nose       Diarrhea  ...  Gender_Female    Gender_Male  \\\n",
       "count  316800.000000  316800.000000  ...  316800.000000  316800.000000   \n",
       "mean        0.545455       0.363636  ...       0.333333       0.333333   \n",
       "std         0.497930       0.481046  ...       0.471405       0.471405   \n",
       "min         0.000000       0.000000  ...       0.000000       0.000000   \n",
       "25%         0.000000       0.000000  ...       0.000000       0.000000   \n",
       "50%         1.000000       0.000000  ...       0.000000       0.000000   \n",
       "75%         1.000000       1.000000  ...       1.000000       1.000000   \n",
       "max         1.000000       1.000000  ...       1.000000       1.000000   \n",
       "\n",
       "       Gender_Transgender  Severity_Mild  Severity_Moderate  Severity_None  \\\n",
       "count       316800.000000  316800.000000      316800.000000  316800.000000   \n",
       "mean             0.333333       0.250000           0.250000       0.250000   \n",
       "std              0.471405       0.433013           0.433013       0.433013   \n",
       "min              0.000000       0.000000           0.000000       0.000000   \n",
       "25%              0.000000       0.000000           0.000000       0.000000   \n",
       "50%              0.000000       0.000000           0.000000       0.000000   \n",
       "75%              1.000000       0.250000           0.250000       0.250000   \n",
       "max              1.000000       1.000000           1.000000       1.000000   \n",
       "\n",
       "       Severity_Severe  Contact_Dont-Know     Contact_No    Contact_Yes  \n",
       "count    316800.000000      316800.000000  316800.000000  316800.000000  \n",
       "mean          0.250000           0.333333       0.333333       0.333333  \n",
       "std           0.433013           0.471405       0.471405       0.471405  \n",
       "min           0.000000           0.000000       0.000000       0.000000  \n",
       "25%           0.000000           0.000000       0.000000       0.000000  \n",
       "50%           0.000000           0.000000       0.000000       0.000000  \n",
       "75%           0.250000           1.000000       1.000000       1.000000  \n",
       "max           1.000000           1.000000       1.000000       1.000000  \n",
       "\n",
       "[8 rows x 26 columns]"
      ]
     },
     "execution_count": 49,
     "metadata": {},
     "output_type": "execute_result"
    }
   ],
   "source": [
    "#Consultamos estadísticas de los datos\n",
    "df.describe()"
   ]
  },
  {
   "cell_type": "code",
   "execution_count": 50,
   "id": "d68a9b23",
   "metadata": {},
   "outputs": [
    {
     "data": {
      "text/plain": [
       "Fever                      0\n",
       "Tiredness                  0\n",
       "Dry-Cough                  0\n",
       "Difficulty-in-Breathing    0\n",
       "Sore-Throat                0\n",
       "None_Sympton               0\n",
       "Pains                      0\n",
       "Nasal-Congestion           0\n",
       "Runny-Nose                 0\n",
       "Diarrhea                   0\n",
       "None_Experiencing          0\n",
       "Age_0-9                    0\n",
       "Age_10-19                  0\n",
       "Age_20-24                  0\n",
       "Age_25-59                  0\n",
       "Age_60+                    0\n",
       "Gender_Female              0\n",
       "Gender_Male                0\n",
       "Gender_Transgender         0\n",
       "Severity_Mild              0\n",
       "Severity_Moderate          0\n",
       "Severity_None              0\n",
       "Severity_Severe            0\n",
       "Contact_Dont-Know          0\n",
       "Contact_No                 0\n",
       "Contact_Yes                0\n",
       "Country                    0\n",
       "dtype: int64"
      ]
     },
     "execution_count": 50,
     "metadata": {},
     "output_type": "execute_result"
    }
   ],
   "source": [
    "df.isna().sum()"
   ]
  },
  {
   "cell_type": "code",
   "execution_count": 51,
   "id": "021a92d3",
   "metadata": {},
   "outputs": [],
   "source": [
    "#División de los datos en train y test\n",
    "x=df.iloc[:,0:13].values\n",
    "y=df.iloc[:,13].values\n",
    "x_train,x_test,y_train,y_test = train_test_split(x,y,test_size=.25,random_state=0)"
   ]
  },
  {
   "cell_type": "code",
   "execution_count": 52,
   "id": "c7c8ae4b",
   "metadata": {},
   "outputs": [],
   "source": [
    "sc_x= StandardScaler()\n",
    "x_train=sc_x.fit_transform(x_train)\n",
    "x_test=sc_x.fit_transform(x_test)"
   ]
  },
  {
   "cell_type": "code",
   "execution_count": 53,
   "id": "459152d7",
   "metadata": {},
   "outputs": [
    {
     "data": {
      "text/plain": [
       "array([0, 0, 0, ..., 0, 0, 0], dtype=int64)"
      ]
     },
     "execution_count": 53,
     "metadata": {},
     "output_type": "execute_result"
    }
   ],
   "source": [
    "classifier = DecisionTreeClassifier()\n",
    "classifier.fit(x_train,y_train)\n",
    "y_pred=classifier.predict(x_test)\n",
    "y_pred"
   ]
  },
  {
   "cell_type": "code",
   "execution_count": 54,
   "id": "c81fd012",
   "metadata": {},
   "outputs": [
    {
     "data": {
      "text/plain": [
       "array([[63331,     0],\n",
       "       [15869,     0]], dtype=int64)"
      ]
     },
     "execution_count": 54,
     "metadata": {},
     "output_type": "execute_result"
    }
   ],
   "source": [
    "cm = confusion_matrix(y_test,y_pred)\n",
    "cm"
   ]
  },
  {
   "cell_type": "code",
   "execution_count": 55,
   "id": "2f1f41b8",
   "metadata": {},
   "outputs": [
    {
     "data": {
      "text/plain": [
       "0.7996338383838384"
      ]
     },
     "execution_count": 55,
     "metadata": {},
     "output_type": "execute_result"
    }
   ],
   "source": [
    "accuracy_score(y_test,y_pred)"
   ]
  },
  {
   "cell_type": "code",
   "execution_count": 18,
   "id": "5b8bef7b",
   "metadata": {},
   "outputs": [],
   "source": [
    "#Precisión del modelo 80%"
   ]
  },
  {
   "cell_type": "code",
   "execution_count": 57,
   "id": "51d9b3b1",
   "metadata": {},
   "outputs": [],
   "source": [
    "df.drop(\"Country\",axis=1,inplace=True)"
   ]
  },
  {
   "cell_type": "code",
   "execution_count": 58,
   "id": "cc25b6d2",
   "metadata": {},
   "outputs": [
    {
     "name": "stdout",
     "output_type": "stream",
     "text": [
      "<class 'pandas.core.frame.DataFrame'>\n",
      "RangeIndex: 316800 entries, 0 to 316799\n",
      "Data columns (total 26 columns):\n",
      " #   Column                   Non-Null Count   Dtype\n",
      "---  ------                   --------------   -----\n",
      " 0   Fever                    316800 non-null  int64\n",
      " 1   Tiredness                316800 non-null  int64\n",
      " 2   Dry-Cough                316800 non-null  int64\n",
      " 3   Difficulty-in-Breathing  316800 non-null  int64\n",
      " 4   Sore-Throat              316800 non-null  int64\n",
      " 5   None_Sympton             316800 non-null  int64\n",
      " 6   Pains                    316800 non-null  int64\n",
      " 7   Nasal-Congestion         316800 non-null  int64\n",
      " 8   Runny-Nose               316800 non-null  int64\n",
      " 9   Diarrhea                 316800 non-null  int64\n",
      " 10  None_Experiencing        316800 non-null  int64\n",
      " 11  Age_0-9                  316800 non-null  int64\n",
      " 12  Age_10-19                316800 non-null  int64\n",
      " 13  Age_20-24                316800 non-null  int64\n",
      " 14  Age_25-59                316800 non-null  int64\n",
      " 15  Age_60+                  316800 non-null  int64\n",
      " 16  Gender_Female            316800 non-null  int64\n",
      " 17  Gender_Male              316800 non-null  int64\n",
      " 18  Gender_Transgender       316800 non-null  int64\n",
      " 19  Severity_Mild            316800 non-null  int64\n",
      " 20  Severity_Moderate        316800 non-null  int64\n",
      " 21  Severity_None            316800 non-null  int64\n",
      " 22  Severity_Severe          316800 non-null  int64\n",
      " 23  Contact_Dont-Know        316800 non-null  int64\n",
      " 24  Contact_No               316800 non-null  int64\n",
      " 25  Contact_Yes              316800 non-null  int64\n",
      "dtypes: int64(26)\n",
      "memory usage: 62.8 MB\n"
     ]
    }
   ],
   "source": [
    "df.info()"
   ]
  },
  {
   "cell_type": "code",
   "execution_count": 67,
   "id": "06ede87d",
   "metadata": {},
   "outputs": [],
   "source": [
    "modelo = DecisionTreeClassifier(\n",
    "            max_depth         = 5,\n",
    "            criterion         = 'gini',\n",
    "            random_state      = 123\n",
    "          )"
   ]
  },
  {
   "cell_type": "code",
   "execution_count": 68,
   "id": "48fa6e14",
   "metadata": {},
   "outputs": [
    {
     "data": {
      "text/plain": [
       "DecisionTreeClassifier(max_depth=5, random_state=123)"
      ]
     },
     "execution_count": 68,
     "metadata": {},
     "output_type": "execute_result"
    }
   ],
   "source": [
    "modelo.fit(x_train, y_train)"
   ]
  },
  {
   "cell_type": "code",
   "execution_count": 69,
   "id": "c3268818",
   "metadata": {},
   "outputs": [
    {
     "name": "stdout",
     "output_type": "stream",
     "text": [
      "Profundidad del árbol: 5\n",
      "Número de nodos terminales: 10\n"
     ]
    },
    {
     "data": {
      "image/png": "[encoded data removed]",
      "text/plain": [
       "<Figure size 1300x600 with 1 Axes>"
      ]
     },
     "metadata": {},
     "output_type": "display_data"
    }
   ],
   "source": [
    "fig, ax = plt.subplots(figsize=(13, 6))\n",
    "\n",
    "print(f\"Profundidad del árbol: {modelo.get_depth()}\")\n",
    "print(f\"Número de nodos terminales: {modelo.get_n_leaves()}\")\n",
    "\n",
    "plot = plot_tree(\n",
    "            decision_tree = modelo,\n",
    "            class_names   = 'Contact_Yes',\n",
    "            filled        = True,\n",
    "            impurity      = False,\n",
    "            fontsize      = 7,\n",
    "            ax            = ax\n",
    "       )"
   ]
  },
  {
   "cell_type": "code",
   "execution_count": null,
   "id": "3b84f6b9",
   "metadata": {},
   "outputs": [],
   "source": []
  }
 ],
 "metadata": {
  "kernelspec": {
   "display_name": "Python 3 (ipykernel)",
   "language": "python",
   "name": "python3"
  },
  "language_info": {
   "codemirror_mode": {
    "name": "ipython",
    "version": 3
   },
   "file_extension": ".py",
   "mimetype": "text/x-python",
   "name": "python",
   "nbconvert_exporter": "python",
   "pygments_lexer": "ipython3",
   "version": "3.9.13"
  }
 },
 "nbformat": 4,
 "nbformat_minor": 5
}
