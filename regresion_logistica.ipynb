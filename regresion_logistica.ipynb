{
 "cells": [
  {
   "cell_type": "code",
   "execution_count": 8,
   "id": "1546ef0b",
   "metadata": {},
   "outputs": [],
   "source": [
    "import pandas as pd\n",
    "import numpy as np\n",
    "from sklearn import linear_model\n",
    "from sklearn.linear_model import LogisticRegression\n",
    "from sklearn import model_selection\n",
    "from sklearn.metrics import classification_report\n",
    "from sklearn.metrics import confusion_matrix\n",
    "from sklearn.metrics import accuracy_score\n",
    "import matplotlib.pyplot as plt\n",
    "import seaborn as sb\n",
    "%matplotlib inline\n",
    "\n",
    "# Configuración warnings\n",
    "# ==============================================================================\n",
    "import warnings\n",
    "warnings.filterwarnings('ignore')"
   ]
  },
  {
   "cell_type": "code",
   "execution_count": 2,
   "id": "112883c0",
   "metadata": {},
   "outputs": [],
   "source": [
    "# Prepara los datos de entrenamiento\n",
    "# X serán los datos de entrada, y los de salida en este ejemplo"
   ]
  },
  {
   "cell_type": "markdown",
   "id": "852f2ed8",
   "metadata": {},
   "source": [
    "# Ejemplo de Regresión Logística en Python\n",
    "### Datos\n",
    "Vamos a suponer que queremos predecir cuál es la probabilidad que tiene un estudiante de aprobar un examen en función de las horas que ha estudiado. Date cuenta que para 1.75 horas de estudio, hay un estudiante que aprueba y el otro que no."
   ]
  },
  {
   "cell_type": "code",
   "execution_count": 3,
   "id": "a70a4cc3",
   "metadata": {},
   "outputs": [],
   "source": [
    "X = np.array([0.5, 0.75, 1, 1.25, 1.5, 1.75, 1.75, 2, 2.25, 2.5, 2.75, 3, 3.25, 3.5, 4, 4.25, 4.5, 4.75, 5, 5.5]).reshape(-1,1)\n",
    "y = np.array([0, 0, 0, 0, 0, 0, 1, 0, 1, 0, 1, 0, 1, 0, 1, 1, 1, 1, 1, 1])"
   ]
  },
  {
   "cell_type": "code",
   "execution_count": 4,
   "id": "06f452b6",
   "metadata": {},
   "outputs": [],
   "source": [
    "# Creamos una instancia de la Regresión Logística\n",
    "regresion_logistica = LogisticRegression()"
   ]
  },
  {
   "cell_type": "code",
   "execution_count": 5,
   "id": "23b20b90",
   "metadata": {
    "scrolled": false
   },
   "outputs": [
    {
     "data": {
      "text/plain": [
       "LogisticRegression()"
      ]
     },
     "execution_count": 5,
     "metadata": {},
     "output_type": "execute_result"
    }
   ],
   "source": [
    "# Entrena la regresión logística con los datos de entrenamiento\n",
    "regresion_logistica.fit(X,y)"
   ]
  },
  {
   "cell_type": "markdown",
   "id": "aee07f46",
   "metadata": {},
   "source": [
    "# Haciendo predicciones\n",
    "Vamos a ver cómo podemos hacer predicciones una vez que el modelo está entrenado. Primero haremos predicciones absolutas y luego predicciones relativas. Vamos a ver qué pasa si estudiamos 1, 2, 3, 4, 5 ó 6 horas."
   ]
  },
  {
   "cell_type": "code",
   "execution_count": 6,
   "id": "11ed79b7",
   "metadata": {},
   "outputs": [],
   "source": [
    "X_nuevo = np.array([1, 2, 3, 4, 5, 6]).reshape(-1,1)"
   ]
  },
  {
   "cell_type": "code",
   "execution_count": 7,
   "id": "417040f2",
   "metadata": {},
   "outputs": [
    {
     "name": "stdout",
     "output_type": "stream",
     "text": [
      "[0 0 1 1 1 1]\n"
     ]
    }
   ],
   "source": [
    "# Usa el modelo entrenado para obtener las predicciones con datos nuevos\n",
    "prediccion = regresion_logistica.predict(X_nuevo)\n",
    "print(prediccion)"
   ]
  },
  {
   "cell_type": "code",
   "execution_count": 8,
   "id": "4c32799a",
   "metadata": {},
   "outputs": [
    {
     "name": "stdout",
     "output_type": "stream",
     "text": [
      "[[0.87984046 0.12015954]\n",
      " [0.69895285 0.30104715]\n",
      " [0.42402118 0.57597882]\n",
      " [0.18924992 0.81075008]\n",
      " [0.06891381 0.93108619]\n",
      " [0.02293029 0.97706971]]\n"
     ]
    }
   ],
   "source": [
    "probabilidades_prediccion = regresion_logistica.predict_proba(X_nuevo)\n",
    "print(probabilidades_prediccion)"
   ]
  },
  {
   "cell_type": "code",
   "execution_count": 9,
   "id": "49d244cf",
   "metadata": {},
   "outputs": [],
   "source": [
    "# produce el siguiente resultado (la primera columna es la probabilidad de reprobar y la segunda columna es \n",
    "# la probabilidad de aprobar)\n",
    "# [[0.87984046 0.12015954]\n",
    "# [0.69895285 0.30104715]\n",
    "# [0.42402118 0.57597882]\n",
    "# [0.18924992 0.81075008]\n",
    "# [0.06891381 0.93108619]\n",
    "# [0.02293029 0.97706971]]"
   ]
  },
  {
   "cell_type": "code",
   "execution_count": 10,
   "id": "257863c3",
   "metadata": {},
   "outputs": [
    {
     "name": "stdout",
     "output_type": "stream",
     "text": [
      "[0.12015954 0.30104715 0.57597882 0.81075008 0.93108619 0.97706971]\n"
     ]
    }
   ],
   "source": [
    "# Como seguramente estamos más interesados en la probabilidad de aprobar,\n",
    "# podemos centrarnos en la segunda columna\n",
    "print(probabilidades_prediccion[:,1])"
   ]
  },
  {
   "cell_type": "markdown",
   "id": "ffe49193",
   "metadata": {},
   "source": [
    "### produce el resultado: [0.12015954 0.30104715 0.57597882 0.81075008 0.93108619 0.97706971]\n",
    "\n",
    "Si estudia 1 hora, tendra la probabilidad de aprobar de un 12%  \n",
    "Si estudia 2 hora, tendra la probabilidad de aprobar de un 30%  \n",
    "Si estudia 3 hora, tendra la probabilidad de aprobar de un 57%  \n",
    "Si estudia 4 hora, tendra la probabilidad de aprobar de un 81%  \n",
    "Si estudia 5 hora, tendra la probabilidad de aprobar de un 93%  \n",
    "Si estudia 6 hora, tendra la probabilidad de aprobar de un 97%  "
   ]
  },
  {
   "cell_type": "markdown",
   "id": "8ce17b94",
   "metadata": {},
   "source": [
    "# Regresión Logística con dataframe"
   ]
  },
  {
   "cell_type": "code",
   "execution_count": 24,
   "id": "3d019304",
   "metadata": {},
   "outputs": [
    {
     "data": {
      "text/html": [
       "<div>\n",
       "<style scoped>\n",
       "    .dataframe tbody tr th:only-of-type {\n",
       "        vertical-align: middle;\n",
       "    }\n",
       "\n",
       "    .dataframe tbody tr th {\n",
       "        vertical-align: top;\n",
       "    }\n",
       "\n",
       "    .dataframe thead th {\n",
       "        text-align: right;\n",
       "    }\n",
       "</style>\n",
       "<table border=\"1\" class=\"dataframe\">\n",
       "  <thead>\n",
       "    <tr style=\"text-align: right;\">\n",
       "      <th></th>\n",
       "      <th>NumDealsPurchases</th>\n",
       "      <th>Response</th>\n",
       "    </tr>\n",
       "  </thead>\n",
       "  <tbody>\n",
       "    <tr>\n",
       "      <th>0</th>\n",
       "      <td>3</td>\n",
       "      <td>1</td>\n",
       "    </tr>\n",
       "    <tr>\n",
       "      <th>1</th>\n",
       "      <td>2</td>\n",
       "      <td>0</td>\n",
       "    </tr>\n",
       "    <tr>\n",
       "      <th>2</th>\n",
       "      <td>1</td>\n",
       "      <td>0</td>\n",
       "    </tr>\n",
       "    <tr>\n",
       "      <th>3</th>\n",
       "      <td>2</td>\n",
       "      <td>0</td>\n",
       "    </tr>\n",
       "    <tr>\n",
       "      <th>4</th>\n",
       "      <td>5</td>\n",
       "      <td>0</td>\n",
       "    </tr>\n",
       "  </tbody>\n",
       "</table>\n",
       "</div>"
      ],
      "text/plain": [
       "   NumDealsPurchases  Response\n",
       "0                  3         1\n",
       "1                  2         0\n",
       "2                  1         0\n",
       "3                  2         0\n",
       "4                  5         0"
      ]
     },
     "execution_count": 24,
     "metadata": {},
     "output_type": "execute_result"
    }
   ],
   "source": [
    "dataframe = pd.read_csv(\"../clauo/marketing_campaign.csv\")\n",
    "dataframe.head(5)"
   ]
  },
  {
   "cell_type": "code",
   "execution_count": 25,
   "id": "5a32f73b",
   "metadata": {},
   "outputs": [
    {
     "data": {
      "text/html": [
       "<div>\n",
       "<style scoped>\n",
       "    .dataframe tbody tr th:only-of-type {\n",
       "        vertical-align: middle;\n",
       "    }\n",
       "\n",
       "    .dataframe tbody tr th {\n",
       "        vertical-align: top;\n",
       "    }\n",
       "\n",
       "    .dataframe thead th {\n",
       "        text-align: right;\n",
       "    }\n",
       "</style>\n",
       "<table border=\"1\" class=\"dataframe\">\n",
       "  <thead>\n",
       "    <tr style=\"text-align: right;\">\n",
       "      <th></th>\n",
       "      <th>NumDealsPurchases</th>\n",
       "      <th>Response</th>\n",
       "    </tr>\n",
       "  </thead>\n",
       "  <tbody>\n",
       "    <tr>\n",
       "      <th>count</th>\n",
       "      <td>2240.000000</td>\n",
       "      <td>2240.000000</td>\n",
       "    </tr>\n",
       "    <tr>\n",
       "      <th>mean</th>\n",
       "      <td>2.325000</td>\n",
       "      <td>0.149107</td>\n",
       "    </tr>\n",
       "    <tr>\n",
       "      <th>std</th>\n",
       "      <td>1.932238</td>\n",
       "      <td>0.356274</td>\n",
       "    </tr>\n",
       "    <tr>\n",
       "      <th>min</th>\n",
       "      <td>0.000000</td>\n",
       "      <td>0.000000</td>\n",
       "    </tr>\n",
       "    <tr>\n",
       "      <th>25%</th>\n",
       "      <td>1.000000</td>\n",
       "      <td>0.000000</td>\n",
       "    </tr>\n",
       "    <tr>\n",
       "      <th>50%</th>\n",
       "      <td>2.000000</td>\n",
       "      <td>0.000000</td>\n",
       "    </tr>\n",
       "    <tr>\n",
       "      <th>75%</th>\n",
       "      <td>3.000000</td>\n",
       "      <td>0.000000</td>\n",
       "    </tr>\n",
       "    <tr>\n",
       "      <th>max</th>\n",
       "      <td>15.000000</td>\n",
       "      <td>1.000000</td>\n",
       "    </tr>\n",
       "  </tbody>\n",
       "</table>\n",
       "</div>"
      ],
      "text/plain": [
       "       NumDealsPurchases     Response\n",
       "count        2240.000000  2240.000000\n",
       "mean            2.325000     0.149107\n",
       "std             1.932238     0.356274\n",
       "min             0.000000     0.000000\n",
       "25%             1.000000     0.000000\n",
       "50%             2.000000     0.000000\n",
       "75%             3.000000     0.000000\n",
       "max            15.000000     1.000000"
      ]
     },
     "execution_count": 25,
     "metadata": {},
     "output_type": "execute_result"
    }
   ],
   "source": [
    "dataframe.describe()"
   ]
  },
  {
   "cell_type": "code",
   "execution_count": 27,
   "id": "6cd10f6f",
   "metadata": {},
   "outputs": [
    {
     "name": "stdout",
     "output_type": "stream",
     "text": [
      "NumDealsPurchases\n",
      "0      46\n",
      "1     970\n",
      "2     497\n",
      "3     297\n",
      "4     189\n",
      "5      94\n",
      "6      61\n",
      "7      40\n",
      "8      14\n",
      "9       8\n",
      "10      5\n",
      "11      5\n",
      "12      4\n",
      "13      3\n",
      "15      7\n",
      "dtype: int64\n"
     ]
    }
   ],
   "source": [
    "print(dataframe.groupby('NumDealsPurchases').size())"
   ]
  },
  {
   "cell_type": "code",
   "execution_count": 28,
   "id": "059dca38",
   "metadata": {},
   "outputs": [
    {
     "name": "stdout",
     "output_type": "stream",
     "text": [
      "Response\n",
      "0    1906\n",
      "1     334\n",
      "dtype: int64\n"
     ]
    }
   ],
   "source": [
    "print(dataframe.groupby('Response').size())"
   ]
  },
  {
   "cell_type": "code",
   "execution_count": 29,
   "id": "afd7b935",
   "metadata": {
    "scrolled": true
   },
   "outputs": [
    {
     "data": {
      "text/plain": [
       "<seaborn.axisgrid.PairGrid at 0x20780eaf5e0>"
      ]
     },
     "execution_count": 29,
     "metadata": {},
     "output_type": "execute_result"
    },
    {
     "data": {
      "image/png": "[encoded data removed]",
      "text/plain": [
       "<Figure size 327.611x250 with 2 Axes>"
      ]
     },
     "metadata": {},
     "output_type": "display_data"
    }
   ],
   "source": [
    "sb.pairplot(dataframe.dropna(), hue='Response',vars=[\"NumDealsPurchases\"],kind='reg')"
   ]
  },
  {
   "cell_type": "code",
   "execution_count": 30,
   "id": "ed2c6b56",
   "metadata": {},
   "outputs": [
    {
     "data": {
      "text/plain": [
       "(2240, 1)"
      ]
     },
     "execution_count": 30,
     "metadata": {},
     "output_type": "execute_result"
    }
   ],
   "source": [
    "X = np.array(dataframe.drop(['Response'],1)) \n",
    "y = np.array(dataframe['Response'])\n",
    "X.shape"
   ]
  },
  {
   "cell_type": "code",
   "execution_count": 31,
   "id": "b0082f5f",
   "metadata": {},
   "outputs": [],
   "source": [
    "regresion_logistica = LogisticRegression()"
   ]
  },
  {
   "cell_type": "code",
   "execution_count": 32,
   "id": "6351bd31",
   "metadata": {},
   "outputs": [
    {
     "data": {
      "text/plain": [
       "LogisticRegression()"
      ]
     },
     "execution_count": 32,
     "metadata": {},
     "output_type": "execute_result"
    }
   ],
   "source": [
    "regresion_logistica.fit(X,y)"
   ]
  },
  {
   "cell_type": "code",
   "execution_count": null,
   "id": "1ebf9552",
   "metadata": {},
   "outputs": [],
   "source": []
  }
 ],
 "metadata": {
  "kernelspec": {
   "display_name": "Python 3 (ipykernel)",
   "language": "python",
   "name": "python3"
  },
  "language_info": {
   "codemirror_mode": {
    "name": "ipython",
    "version": 3
   },
   "file_extension": ".py",
   "mimetype": "text/x-python",
   "name": "python",
   "nbconvert_exporter": "python",
   "pygments_lexer": "ipython3",
   "version": "3.9.13"
  }
 },
 "nbformat": 4,
 "nbformat_minor": 5
}
